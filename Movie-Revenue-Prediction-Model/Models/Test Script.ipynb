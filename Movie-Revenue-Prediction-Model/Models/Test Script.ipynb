{
 "cells": [
  {
   "cell_type": "code",
   "execution_count": 1,
   "id": "00ed8519",
   "metadata": {},
   "outputs": [],
   "source": [
    "import pandas as pd\n",
    "import numpy as np\n",
    "import pickle\n",
    "from Preprocessing import features\n",
    "from sklearn import metrics\n",
    "from sklearn.model_selection import train_test_split\n",
    "from sklearn.metrics import r2_score\n",
    "from category_encoders.m_estimate import MEstimateEncoder\n",
    "from sklearn.preprocessing import PolynomialFeatures"
   ]
  },
  {
   "cell_type": "code",
   "execution_count": 2,
   "id": "d1cf4098",
   "metadata": {},
   "outputs": [
    {
     "name": "stderr",
     "output_type": "stream",
     "text": [
      "C:\\Users\\-O-O-\\anaconda3\\lib\\site-packages\\sklearn\\base.py:310: UserWarning: Trying to unpickle estimator LinearRegression from version 1.0.2 when using version 0.24.2. This might lead to breaking code or invalid results. Use at your own risk.\n",
      "  warnings.warn(\n"
     ]
    }
   ],
   "source": [
    "# Testing Steps:\n",
    "#         1- Run Preprocessing script on the 3 given datasets.\n",
    "#         2- Load Trained Models and test them using Test script.\n",
    "\n",
    "with open('MEstimate Encoding Model', 'rb') as file:\n",
    "    model = pickle.load(file)\n",
    "\n",
    "\n",
    "# Reading the test data set.\n",
    "data = pd.read_csv('data_finalizing_test.csv')\n",
    "data.release_date = pd.to_datetime(data.release_date).dt.year"
   ]
  },
  {
   "cell_type": "code",
   "execution_count": 3,
   "id": "306d41e6",
   "metadata": {},
   "outputs": [
    {
     "name": "stdout",
     "output_type": "stream",
     "text": [
      " --------------------------------------------------\n",
      " Features : ['release_date', 'genre', 'director', 'character', 'voice-actor']\n",
      " --------------------------------------------------\n"
     ]
    }
   ],
   "source": [
    "# Encoding data.\n",
    "\n",
    "# M-Estimate Encoding.\n",
    "MEstimateEncoder = MEstimateEncoder()\n",
    "encoded_data = MEstimateEncoder.fit_transform(data[features], data['revenue'])\n",
    "\n",
    "data[features] = encoded_data\n",
    "\n",
    "corr = data.corr()\n",
    "top_features = corr.index[abs(corr['revenue']) > 0.45]\n",
    "Features = top_features.to_list()\n",
    "Features.remove('revenue')\n",
    "\n",
    "X = data[Features]\n",
    "Y = data['revenue']\n",
    "print(\"\", '-'*50)\n",
    "print(' Features :', Features)\n",
    "print(\"\", '-'*50)"
   ]
  },
  {
   "cell_type": "code",
   "execution_count": 5,
   "id": "e2ab8c31",
   "metadata": {},
   "outputs": [],
   "source": [
    "poly_features = PolynomialFeatures(degree=3)\n",
    "x_test_poly = poly_features.fit_transform(X)\n",
    "\n",
    "test_predictions = model.predict(x_test_poly)"
   ]
  },
  {
   "cell_type": "code",
   "execution_count": 6,
   "id": "bfbb89c5",
   "metadata": {},
   "outputs": [
    {
     "name": "stdout",
     "output_type": "stream",
     "text": [
      "_________________________\n",
      "Polynomial Regression With MEstimate Encoder\n",
      "_______________\n",
      "Test MSE =  8149872072277839.0\n",
      "Accuracy = 98.0504 %\n",
      "_________________________\n"
     ]
    }
   ],
   "source": [
    "print('_'*25)\n",
    "print('Polynomial Regression With MEstimate Encoder')\n",
    "print('_'*15)\n",
    "print('Test MSE = ', metrics.mean_squared_error(np.array(Y), test_predictions))\n",
    "print('Accuracy =', \"{:.4f}\".format(r2_score(Y,test_predictions)*100), \"%\")\n",
    "print('_'*25)"
   ]
  },
  {
   "cell_type": "code",
   "execution_count": null,
   "id": "3dfbce37",
   "metadata": {},
   "outputs": [],
   "source": []
  }
 ],
 "metadata": {
  "kernelspec": {
   "display_name": "Python 3 (ipykernel)",
   "language": "python",
   "name": "python3"
  },
  "language_info": {
   "codemirror_mode": {
    "name": "ipython",
    "version": 3
   },
   "file_extension": ".py",
   "mimetype": "text/x-python",
   "name": "python",
   "nbconvert_exporter": "python",
   "pygments_lexer": "ipython3",
   "version": "3.9.7"
  }
 },
 "nbformat": 4,
 "nbformat_minor": 5
}
