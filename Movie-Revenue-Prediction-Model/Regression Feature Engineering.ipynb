{
 "cells": [
  {
   "cell_type": "markdown",
   "id": "4ec0d228",
   "metadata": {},
   "source": [
    "# Importing Modules"
   ]
  },
  {
   "cell_type": "code",
   "execution_count": 34,
   "id": "3edc3a4c",
   "metadata": {},
   "outputs": [],
   "source": [
    "import pandas as pd\n",
    "import numpy as np\n",
    "import imdb"
   ]
  },
  {
   "cell_type": "markdown",
   "id": "668d2480",
   "metadata": {},
   "source": [
    "# Reading Data into Data Frames"
   ]
  },
  {
   "cell_type": "code",
   "execution_count": 35,
   "id": "c2b99e4e",
   "metadata": {},
   "outputs": [],
   "source": [
    "revenues = pd.read_csv('movies-revenue.csv')\n",
    "directors = pd.read_csv('movie-director.csv')\n",
    "voice_actors = pd.read_csv('movie-voice-actors.csv')"
   ]
  },
  {
   "cell_type": "markdown",
   "id": "6098a0fd",
   "metadata": {},
   "source": [
    "# Joining Data into a Single Data Frame"
   ]
  },
  {
   "cell_type": "code",
   "execution_count": 36,
   "id": "0f45de0b",
   "metadata": {},
   "outputs": [
    {
     "data": {
      "text/html": [
       "<div>\n",
       "<style scoped>\n",
       "    .dataframe tbody tr th:only-of-type {\n",
       "        vertical-align: middle;\n",
       "    }\n",
       "\n",
       "    .dataframe tbody tr th {\n",
       "        vertical-align: top;\n",
       "    }\n",
       "\n",
       "    .dataframe thead th {\n",
       "        text-align: right;\n",
       "    }\n",
       "</style>\n",
       "<table border=\"1\" class=\"dataframe\">\n",
       "  <thead>\n",
       "    <tr style=\"text-align: right;\">\n",
       "      <th></th>\n",
       "      <th>movie_title</th>\n",
       "      <th>release_date</th>\n",
       "      <th>genre</th>\n",
       "      <th>MPAA_rating</th>\n",
       "      <th>revenue</th>\n",
       "    </tr>\n",
       "  </thead>\n",
       "  <tbody>\n",
       "    <tr>\n",
       "      <th>0</th>\n",
       "      <td>Recess: School's Out</td>\n",
       "      <td>16-Feb-01</td>\n",
       "      <td>Comedy</td>\n",
       "      <td>G</td>\n",
       "      <td>$54,656,124</td>\n",
       "    </tr>\n",
       "  </tbody>\n",
       "</table>\n",
       "</div>"
      ],
      "text/plain": [
       "            movie_title release_date   genre MPAA_rating       revenue\n",
       "0  Recess: School's Out    16-Feb-01  Comedy           G  $54,656,124 "
      ]
     },
     "execution_count": 36,
     "metadata": {},
     "output_type": "execute_result"
    }
   ],
   "source": [
    "revenues.head(1)"
   ]
  },
  {
   "cell_type": "code",
   "execution_count": 37,
   "id": "20db4f64",
   "metadata": {},
   "outputs": [
    {
     "data": {
      "text/html": [
       "<div>\n",
       "<style scoped>\n",
       "    .dataframe tbody tr th:only-of-type {\n",
       "        vertical-align: middle;\n",
       "    }\n",
       "\n",
       "    .dataframe tbody tr th {\n",
       "        vertical-align: top;\n",
       "    }\n",
       "\n",
       "    .dataframe thead th {\n",
       "        text-align: right;\n",
       "    }\n",
       "</style>\n",
       "<table border=\"1\" class=\"dataframe\">\n",
       "  <thead>\n",
       "    <tr style=\"text-align: right;\">\n",
       "      <th></th>\n",
       "      <th>name</th>\n",
       "      <th>director</th>\n",
       "    </tr>\n",
       "  </thead>\n",
       "  <tbody>\n",
       "    <tr>\n",
       "      <th>0</th>\n",
       "      <td>Snow White and the Seven Dwarfs</td>\n",
       "      <td>David Hand</td>\n",
       "    </tr>\n",
       "  </tbody>\n",
       "</table>\n",
       "</div>"
      ],
      "text/plain": [
       "                              name    director\n",
       "0  Snow White and the Seven Dwarfs  David Hand"
      ]
     },
     "execution_count": 37,
     "metadata": {},
     "output_type": "execute_result"
    }
   ],
   "source": [
    "directors.head(1)"
   ]
  },
  {
   "cell_type": "code",
   "execution_count": 38,
   "id": "64ed0451",
   "metadata": {},
   "outputs": [
    {
     "data": {
      "text/html": [
       "<div>\n",
       "<style scoped>\n",
       "    .dataframe tbody tr th:only-of-type {\n",
       "        vertical-align: middle;\n",
       "    }\n",
       "\n",
       "    .dataframe tbody tr th {\n",
       "        vertical-align: top;\n",
       "    }\n",
       "\n",
       "    .dataframe thead th {\n",
       "        text-align: right;\n",
       "    }\n",
       "</style>\n",
       "<table border=\"1\" class=\"dataframe\">\n",
       "  <thead>\n",
       "    <tr style=\"text-align: right;\">\n",
       "      <th></th>\n",
       "      <th>character</th>\n",
       "      <th>voice-actor</th>\n",
       "      <th>movie</th>\n",
       "    </tr>\n",
       "  </thead>\n",
       "  <tbody>\n",
       "    <tr>\n",
       "      <th>0</th>\n",
       "      <td>Abigail Gabble</td>\n",
       "      <td>Monica Evans</td>\n",
       "      <td>The Aristocats</td>\n",
       "    </tr>\n",
       "  </tbody>\n",
       "</table>\n",
       "</div>"
      ],
      "text/plain": [
       "        character   voice-actor           movie\n",
       "0  Abigail Gabble  Monica Evans  The Aristocats"
      ]
     },
     "execution_count": 38,
     "metadata": {},
     "output_type": "execute_result"
    }
   ],
   "source": [
    "voice_actors.head(1)"
   ]
  },
  {
   "cell_type": "code",
   "execution_count": 39,
   "id": "0b90af22",
   "metadata": {},
   "outputs": [],
   "source": [
    "directors.rename(columns={'name': 'movie_title'}, inplace=True)\n",
    "voice_actors.rename(columns={'movie': 'movie_title'}, inplace=True)"
   ]
  },
  {
   "cell_type": "code",
   "execution_count": 40,
   "id": "0d814ac3",
   "metadata": {},
   "outputs": [
    {
     "data": {
      "text/html": [
       "<div>\n",
       "<style scoped>\n",
       "    .dataframe tbody tr th:only-of-type {\n",
       "        vertical-align: middle;\n",
       "    }\n",
       "\n",
       "    .dataframe tbody tr th {\n",
       "        vertical-align: top;\n",
       "    }\n",
       "\n",
       "    .dataframe thead th {\n",
       "        text-align: right;\n",
       "    }\n",
       "</style>\n",
       "<table border=\"1\" class=\"dataframe\">\n",
       "  <thead>\n",
       "    <tr style=\"text-align: right;\">\n",
       "      <th></th>\n",
       "      <th>movie_title</th>\n",
       "      <th>director</th>\n",
       "    </tr>\n",
       "  </thead>\n",
       "  <tbody>\n",
       "    <tr>\n",
       "      <th>0</th>\n",
       "      <td>Snow White and the Seven Dwarfs</td>\n",
       "      <td>David Hand</td>\n",
       "    </tr>\n",
       "  </tbody>\n",
       "</table>\n",
       "</div>"
      ],
      "text/plain": [
       "                       movie_title    director\n",
       "0  Snow White and the Seven Dwarfs  David Hand"
      ]
     },
     "execution_count": 40,
     "metadata": {},
     "output_type": "execute_result"
    }
   ],
   "source": [
    "directors.head(1)"
   ]
  },
  {
   "cell_type": "code",
   "execution_count": 41,
   "id": "e5c2f663",
   "metadata": {},
   "outputs": [
    {
     "data": {
      "text/html": [
       "<div>\n",
       "<style scoped>\n",
       "    .dataframe tbody tr th:only-of-type {\n",
       "        vertical-align: middle;\n",
       "    }\n",
       "\n",
       "    .dataframe tbody tr th {\n",
       "        vertical-align: top;\n",
       "    }\n",
       "\n",
       "    .dataframe thead th {\n",
       "        text-align: right;\n",
       "    }\n",
       "</style>\n",
       "<table border=\"1\" class=\"dataframe\">\n",
       "  <thead>\n",
       "    <tr style=\"text-align: right;\">\n",
       "      <th></th>\n",
       "      <th>character</th>\n",
       "      <th>voice-actor</th>\n",
       "      <th>movie_title</th>\n",
       "    </tr>\n",
       "  </thead>\n",
       "  <tbody>\n",
       "    <tr>\n",
       "      <th>0</th>\n",
       "      <td>Abigail Gabble</td>\n",
       "      <td>Monica Evans</td>\n",
       "      <td>The Aristocats</td>\n",
       "    </tr>\n",
       "  </tbody>\n",
       "</table>\n",
       "</div>"
      ],
      "text/plain": [
       "        character   voice-actor     movie_title\n",
       "0  Abigail Gabble  Monica Evans  The Aristocats"
      ]
     },
     "execution_count": 41,
     "metadata": {},
     "output_type": "execute_result"
    }
   ],
   "source": [
    "voice_actors.head(1)"
   ]
  },
  {
   "cell_type": "code",
   "execution_count": 42,
   "id": "f7869ee1",
   "metadata": {},
   "outputs": [],
   "source": [
    "revenues_directors = pd.merge(revenues, directors, on=\"movie_title\", how=\"outer\")"
   ]
  },
  {
   "cell_type": "code",
   "execution_count": 43,
   "id": "43adf28a",
   "metadata": {},
   "outputs": [
    {
     "data": {
      "text/html": [
       "<div>\n",
       "<style scoped>\n",
       "    .dataframe tbody tr th:only-of-type {\n",
       "        vertical-align: middle;\n",
       "    }\n",
       "\n",
       "    .dataframe tbody tr th {\n",
       "        vertical-align: top;\n",
       "    }\n",
       "\n",
       "    .dataframe thead th {\n",
       "        text-align: right;\n",
       "    }\n",
       "</style>\n",
       "<table border=\"1\" class=\"dataframe\">\n",
       "  <thead>\n",
       "    <tr style=\"text-align: right;\">\n",
       "      <th></th>\n",
       "      <th>movie_title</th>\n",
       "      <th>release_date</th>\n",
       "      <th>genre</th>\n",
       "      <th>MPAA_rating</th>\n",
       "      <th>revenue</th>\n",
       "      <th>director</th>\n",
       "    </tr>\n",
       "  </thead>\n",
       "  <tbody>\n",
       "    <tr>\n",
       "      <th>0</th>\n",
       "      <td>Recess: School's Out</td>\n",
       "      <td>16-Feb-01</td>\n",
       "      <td>Comedy</td>\n",
       "      <td>G</td>\n",
       "      <td>$54,656,124</td>\n",
       "      <td>NaN</td>\n",
       "    </tr>\n",
       "  </tbody>\n",
       "</table>\n",
       "</div>"
      ],
      "text/plain": [
       "            movie_title release_date   genre MPAA_rating       revenue  \\\n",
       "0  Recess: School's Out    16-Feb-01  Comedy           G  $54,656,124    \n",
       "\n",
       "  director  \n",
       "0      NaN  "
      ]
     },
     "execution_count": 43,
     "metadata": {},
     "output_type": "execute_result"
    }
   ],
   "source": [
    "revenues_directors.head(1)"
   ]
  },
  {
   "cell_type": "code",
   "execution_count": 44,
   "id": "14c0ceb8",
   "metadata": {},
   "outputs": [
    {
     "data": {
      "text/html": [
       "<div>\n",
       "<style scoped>\n",
       "    .dataframe tbody tr th:only-of-type {\n",
       "        vertical-align: middle;\n",
       "    }\n",
       "\n",
       "    .dataframe tbody tr th {\n",
       "        vertical-align: top;\n",
       "    }\n",
       "\n",
       "    .dataframe thead th {\n",
       "        text-align: right;\n",
       "    }\n",
       "</style>\n",
       "<table border=\"1\" class=\"dataframe\">\n",
       "  <thead>\n",
       "    <tr style=\"text-align: right;\">\n",
       "      <th></th>\n",
       "      <th>movie_title</th>\n",
       "      <th>release_date</th>\n",
       "      <th>genre</th>\n",
       "      <th>MPAA_rating</th>\n",
       "      <th>revenue</th>\n",
       "      <th>director</th>\n",
       "      <th>character</th>\n",
       "      <th>voice-actor</th>\n",
       "    </tr>\n",
       "  </thead>\n",
       "  <tbody>\n",
       "    <tr>\n",
       "      <th>0</th>\n",
       "      <td>Recess: School's Out</td>\n",
       "      <td>16-Feb-01</td>\n",
       "      <td>Comedy</td>\n",
       "      <td>G</td>\n",
       "      <td>$54,656,124</td>\n",
       "      <td>NaN</td>\n",
       "      <td>NaN</td>\n",
       "      <td>NaN</td>\n",
       "    </tr>\n",
       "  </tbody>\n",
       "</table>\n",
       "</div>"
      ],
      "text/plain": [
       "            movie_title release_date   genre MPAA_rating       revenue  \\\n",
       "0  Recess: School's Out    16-Feb-01  Comedy           G  $54,656,124    \n",
       "\n",
       "  director character voice-actor  \n",
       "0      NaN       NaN         NaN  "
      ]
     },
     "execution_count": 44,
     "metadata": {},
     "output_type": "execute_result"
    }
   ],
   "source": [
    "data = pd.merge(revenues_directors, voice_actors, on=\"movie_title\", how=\"outer\")\n",
    "data.head(1)"
   ]
  },
  {
   "cell_type": "code",
   "execution_count": 45,
   "id": "cd529254",
   "metadata": {},
   "outputs": [
    {
     "data": {
      "text/plain": [
       "movie_title       0\n",
       "release_date    353\n",
       "genre           367\n",
       "MPAA_rating     458\n",
       "revenue         353\n",
       "director        714\n",
       "character       424\n",
       "voice-actor     424\n",
       "dtype: int64"
      ]
     },
     "execution_count": 45,
     "metadata": {},
     "output_type": "execute_result"
    }
   ],
   "source": [
    "data.isna().sum()"
   ]
  },
  {
   "cell_type": "code",
   "execution_count": 46,
   "id": "1450cbdd",
   "metadata": {},
   "outputs": [
    {
     "data": {
      "text/plain": [
       "(1250, 8)"
      ]
     },
     "execution_count": 46,
     "metadata": {},
     "output_type": "execute_result"
    }
   ],
   "source": [
    "data.shape"
   ]
  },
  {
   "cell_type": "code",
   "execution_count": 47,
   "id": "f7ddf471",
   "metadata": {},
   "outputs": [],
   "source": [
    "data = data.dropna(axis=0, subset=['revenue'])"
   ]
  },
  {
   "cell_type": "code",
   "execution_count": 48,
   "id": "297e814b",
   "metadata": {},
   "outputs": [
    {
     "data": {
      "text/plain": [
       "movie_title       0\n",
       "release_date      0\n",
       "genre            14\n",
       "MPAA_rating     105\n",
       "revenue           0\n",
       "director        444\n",
       "character       424\n",
       "voice-actor     424\n",
       "dtype: int64"
      ]
     },
     "execution_count": 48,
     "metadata": {},
     "output_type": "execute_result"
    }
   ],
   "source": [
    "data.isna().sum()"
   ]
  },
  {
   "cell_type": "code",
   "execution_count": 49,
   "id": "c3666164",
   "metadata": {},
   "outputs": [
    {
     "data": {
      "text/plain": [
       "(897, 8)"
      ]
     },
     "execution_count": 49,
     "metadata": {},
     "output_type": "execute_result"
    }
   ],
   "source": [
    "data.shape"
   ]
  },
  {
   "cell_type": "markdown",
   "id": "91503e22",
   "metadata": {},
   "source": [
    "# Parsing Dates and Floats"
   ]
  },
  {
   "cell_type": "code",
   "execution_count": 50,
   "id": "175ab6a9",
   "metadata": {},
   "outputs": [
    {
     "data": {
      "text/plain": [
       "dtype('O')"
      ]
     },
     "execution_count": 50,
     "metadata": {},
     "output_type": "execute_result"
    }
   ],
   "source": [
    "data['release_date'].dtype"
   ]
  },
  {
   "cell_type": "code",
   "execution_count": 51,
   "id": "3a399b09",
   "metadata": {},
   "outputs": [
    {
     "data": {
      "text/plain": [
       "dtype('O')"
      ]
     },
     "execution_count": 51,
     "metadata": {},
     "output_type": "execute_result"
    }
   ],
   "source": [
    "data['revenue'].dtype"
   ]
  },
  {
   "cell_type": "code",
   "execution_count": 52,
   "id": "f5befdcd",
   "metadata": {},
   "outputs": [
    {
     "data": {
      "text/plain": [
       "9    662\n",
       "8    235\n",
       "Name: release_date, dtype: int64"
      ]
     },
     "execution_count": 52,
     "metadata": {},
     "output_type": "execute_result"
    }
   ],
   "source": [
    "date_lengths = data['release_date'].str.len()\n",
    "date_lengths.value_counts()"
   ]
  },
  {
   "cell_type": "code",
   "execution_count": 54,
   "id": "1f09b5ef",
   "metadata": {},
   "outputs": [
    {
     "data": {
      "text/plain": [
       "0    16-Feb-01\n",
       "Name: release_date, dtype: object"
      ]
     },
     "execution_count": 54,
     "metadata": {},
     "output_type": "execute_result"
    }
   ],
   "source": [
    "data['release_date'].head(1)"
   ]
  },
  {
   "cell_type": "code",
   "execution_count": 55,
   "id": "99bf953d",
   "metadata": {},
   "outputs": [],
   "source": [
    "data['release_date'] = pd.to_datetime(data['release_date'])"
   ]
  },
  {
   "cell_type": "code",
   "execution_count": 56,
   "id": "d08f60b0",
   "metadata": {},
   "outputs": [
    {
     "data": {
      "text/plain": [
       "0   2001-02-16\n",
       "Name: release_date, dtype: datetime64[ns]"
      ]
     },
     "execution_count": 56,
     "metadata": {},
     "output_type": "execute_result"
    }
   ],
   "source": [
    "data['release_date'].head(1)"
   ]
  },
  {
   "cell_type": "code",
   "execution_count": 57,
   "id": "fe5f6c5f",
   "metadata": {},
   "outputs": [
    {
     "data": {
      "text/plain": [
       "0    $54,656,124 \n",
       "Name: revenue, dtype: object"
      ]
     },
     "execution_count": 57,
     "metadata": {},
     "output_type": "execute_result"
    }
   ],
   "source": [
    "data['revenue'].head(1)"
   ]
  },
  {
   "cell_type": "code",
   "execution_count": 58,
   "id": "a5f3e3ea",
   "metadata": {},
   "outputs": [],
   "source": [
    "data['revenue'] = data['revenue'].replace(\"[$,]\", \"\", regex=True).astype(float)"
   ]
  },
  {
   "cell_type": "code",
   "execution_count": 59,
   "id": "4319a93c",
   "metadata": {},
   "outputs": [
    {
     "data": {
      "text/plain": [
       "0    54656124.0\n",
       "Name: revenue, dtype: float64"
      ]
     },
     "execution_count": 59,
     "metadata": {},
     "output_type": "execute_result"
    }
   ],
   "source": [
    "data['revenue'].head(1)"
   ]
  },
  {
   "cell_type": "code",
   "execution_count": 60,
   "id": "bca160fd",
   "metadata": {},
   "outputs": [
    {
     "data": {
      "text/plain": [
       "(897, 8)"
      ]
     },
     "execution_count": 60,
     "metadata": {},
     "output_type": "execute_result"
    }
   ],
   "source": [
    "data.shape"
   ]
  },
  {
   "cell_type": "code",
   "execution_count": 61,
   "id": "9cb2a178",
   "metadata": {},
   "outputs": [
    {
     "data": {
      "text/plain": [
       "movie_title       0\n",
       "release_date      0\n",
       "genre            14\n",
       "MPAA_rating     105\n",
       "revenue           0\n",
       "director        444\n",
       "character       424\n",
       "voice-actor     424\n",
       "dtype: int64"
      ]
     },
     "execution_count": 61,
     "metadata": {},
     "output_type": "execute_result"
    }
   ],
   "source": [
    "data.isna().sum()"
   ]
  },
  {
   "cell_type": "markdown",
   "id": "ede5db41",
   "metadata": {},
   "source": [
    "# Filling NaNs Using ImdbPY Library"
   ]
  },
  {
   "cell_type": "markdown",
   "id": "d7206ab9",
   "metadata": {},
   "source": [
    "## Filling Movies' Genre"
   ]
  },
  {
   "cell_type": "code",
   "execution_count": null,
   "id": "c9d51820",
   "metadata": {},
   "outputs": [],
   "source": [
    "ia = imdb.IMDb()"
   ]
  },
  {
   "cell_type": "code",
   "execution_count": 64,
   "id": "ab7ce6dc",
   "metadata": {},
   "outputs": [
    {
     "data": {
      "text/plain": [
       "85                             Bound by Honor\n",
       "130                  The Devil and Max Devlin\n",
       "138             The Last Flight of Noah’s Ark\n",
       "234                       My Boyfriend's Back\n",
       "278    The Many Adventures of Winnie the Pooh\n",
       "389                           The War at Home\n",
       "507                  High Heels and Low Lifes\n",
       "540                             Red Rock West\n",
       "619                       Frank McKlusky C.I.\n",
       "625                Herbie Goes to Monte Carlo\n",
       "703                            The Black Hole\n",
       "705              A Gun in Betty Lou's Handbag\n",
       "840                               Passed Away\n",
       "869                               Father Hood\n",
       "Name: movie_title, dtype: object"
      ]
     },
     "execution_count": 64,
     "metadata": {},
     "output_type": "execute_result"
    }
   ],
   "source": [
    "genre_nans = data[data['genre'].isna()].movie_title\n",
    "genre_nans"
   ]
  },
  {
   "cell_type": "code",
   "execution_count": 69,
   "id": "75bd8639",
   "metadata": {},
   "outputs": [
    {
     "name": "stderr",
     "output_type": "stream",
     "text": [
      "C:\\Users\\-O-O-\\anaconda3\\lib\\site-packages\\pandas\\core\\indexing.py:1732: SettingWithCopyWarning: \n",
      "A value is trying to be set on a copy of a slice from a DataFrame\n",
      "\n",
      "See the caveats in the documentation: https://pandas.pydata.org/pandas-docs/stable/user_guide/indexing.html#returning-a-view-versus-a-copy\n",
      "  self._setitem_single_block(indexer, value, name)\n"
     ]
    }
   ],
   "source": [
    "for name in genre_nans:\n",
    "    search = ia.search_movie(name)\n",
    "    id = search[0].movieID\n",
    "    movie = ia.get_movie(id)\n",
    "    genre = movie['genres'][0]\n",
    "    data['genre'].loc[data['movie_title'] == name] = genre\n"
   ]
  },
  {
   "cell_type": "code",
   "execution_count": 75,
   "id": "a2fd65c8",
   "metadata": {},
   "outputs": [
    {
     "data": {
      "text/plain": [
       "movie_title       0\n",
       "release_date      0\n",
       "genre             0\n",
       "MPAA_rating     105\n",
       "revenue           0\n",
       "director        444\n",
       "character       424\n",
       "voice-actor     424\n",
       "dtype: int64"
      ]
     },
     "execution_count": 75,
     "metadata": {},
     "output_type": "execute_result"
    }
   ],
   "source": [
    "data.isna().sum()"
   ]
  },
  {
   "cell_type": "markdown",
   "id": "89fefe1b",
   "metadata": {},
   "source": [
    "## Filling Movies MPAA Rating"
   ]
  },
  {
   "cell_type": "code",
   "execution_count": 78,
   "id": "a51aaad0",
   "metadata": {},
   "outputs": [
    {
     "data": {
      "text/plain": [
       "89                         Hello Again\n",
       "113                         Tough Guys\n",
       "114    Something Wicked This Way Comes\n",
       "124                     Never Cry Wolf\n",
       "130           The Devil and Max Devlin\n",
       "Name: movie_title, dtype: object"
      ]
     },
     "execution_count": 78,
     "metadata": {},
     "output_type": "execute_result"
    }
   ],
   "source": [
    "rating_nans = data[data['MPAA_rating'].isna()].movie_title\n",
    "rating_nans.head()"
   ]
  },
  {
   "cell_type": "code",
   "execution_count": 84,
   "id": "ffd7f312",
   "metadata": {},
   "outputs": [
    {
     "name": "stdout",
     "output_type": "stream",
     "text": [
      "PG-13\n"
     ]
    }
   ],
   "source": [
    "name = \"Inception\"\n",
    "search = ia.search_movie(name)\n",
    "id = search[0].movieID\n",
    "movie = ia.get_movie(id)\n",
    "\n",
    "ratingsLen = len(movie.data['certificates'])\n",
    "ratings = movie.data['certificates']\n",
    "\n",
    "for i in range(ratingsLen):\n",
    "    rating = certfificate[i]\n",
    "    if 'United States' in rating:\n",
    "        rating = rating.split(\":\", 1)[1]\n",
    "        if rating in MPAA_ratings:\n",
    "            print(certificates)"
   ]
  },
  {
   "cell_type": "code",
   "execution_count": 89,
   "id": "8e625bbb",
   "metadata": {},
   "outputs": [],
   "source": [
    "i = 0\n",
    "#for name in rating_nans:\n",
    "name = \"Hello Again\"\n",
    "search = ia.search_movie(name)\n",
    "id = search[0].movieID\n",
    "movie = ia.get_movie(id)\n",
    "    \n",
    "ratingsLen = len(movie.data['certificates'])\n",
    "ratings = movie.data['certificates']\n",
    "\n",
    "for i in range(ratingsLen):\n",
    "    rating = certfificate[i]\n",
    "    if 'United States' in rating:\n",
    "        rating = rating.split(\":\", 1)[1]\n",
    "        if rating in MPAA_ratings:\n",
    "            data['MPAA_rating'].loc[data['movie_title'] == name] = rating\n",
    "   "
   ]
  },
  {
   "cell_type": "code",
   "execution_count": 90,
   "id": "56d36a69",
   "metadata": {},
   "outputs": [
    {
     "data": {
      "text/plain": [
       "movie_title       0\n",
       "release_date      0\n",
       "genre             0\n",
       "MPAA_rating     105\n",
       "revenue           0\n",
       "director        444\n",
       "character       424\n",
       "voice-actor     424\n",
       "dtype: int64"
      ]
     },
     "execution_count": 90,
     "metadata": {},
     "output_type": "execute_result"
    }
   ],
   "source": [
    "data.isna().sum()"
   ]
  },
  {
   "cell_type": "code",
   "execution_count": null,
   "id": "0429634e",
   "metadata": {},
   "outputs": [],
   "source": []
  }
 ],
 "metadata": {
  "kernelspec": {
   "display_name": "Python 3 (ipykernel)",
   "language": "python",
   "name": "python3"
  },
  "language_info": {
   "codemirror_mode": {
    "name": "ipython",
    "version": 3
   },
   "file_extension": ".py",
   "mimetype": "text/x-python",
   "name": "python",
   "nbconvert_exporter": "python",
   "pygments_lexer": "ipython3",
   "version": "3.9.7"
  }
 },
 "nbformat": 4,
 "nbformat_minor": 5
}
