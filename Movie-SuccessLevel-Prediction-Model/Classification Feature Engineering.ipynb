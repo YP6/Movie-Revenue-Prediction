{
 "cells": [
  {
   "cell_type": "code",
   "execution_count": 1,
   "id": "628e7710",
   "metadata": {},
   "outputs": [],
   "source": [
    "import numpy as np\n",
    "import pandas as pd\n",
    "import imdb\n",
    "from numpy import asarray\n",
    "from sklearn.model_selection import train_test_split\n",
    "from sklearn import svm\n",
    "from category_encoders.target_encoder import TargetEncoder\n",
    "from sklearn.preprocessing import LabelEncoder"
   ]
  },
  {
   "cell_type": "code",
   "execution_count": 2,
   "id": "08167a65",
   "metadata": {},
   "outputs": [],
   "source": [
    "successLevel = pd.read_csv('../Datasets/Classification Datasets/movies-revenue-classification.csv')\n",
    "voice_actors = pd.read_csv('../Datasets/Classification Datasets/movie-voice-actors.csv')\n",
    "directors = pd.read_csv('../Datasets/Classification Datasets/movie-director.csv')\n",
    "\n",
    "features = ['release_date', 'genre', 'MPAA_rating', 'director', 'character', 'voice-actor']"
   ]
  },
  {
   "cell_type": "code",
   "execution_count": 3,
   "id": "126c9b21",
   "metadata": {},
   "outputs": [
    {
     "name": "stdout",
     "output_type": "stream",
     "text": [
      "\n",
      "Parsing Date: \n",
      "-------------------------\n",
      "Date Lengths :\n",
      "9    331\n",
      "8    132\n",
      "Name: release_date, dtype: int64\n",
      "-------------------------\n",
      "Release-Date datatype before Parsing:  object\n",
      "Release-Date datatype after Parsing:  datetime64[ns]\n",
      "--------------------------------------------------\n"
     ]
    }
   ],
   "source": [
    "\"\"\"Converts release-date data type to datetime instead of string.\"\"\"\n",
    "print(\"\\nParsing Date: \")\n",
    "print(\"-\" * 25)\n",
    "\n",
    "# Checking date format consistency.\n",
    "date_lengths = successLevel.release_date.str.len()\n",
    "\n",
    "print(\"Date Lengths :\")\n",
    "print(date_lengths.value_counts())\n",
    "print(\"-\" * 25)\n",
    "\n",
    "print(\"Release-Date datatype before Parsing: \", successLevel.release_date.dtype)\n",
    "\n",
    "# Fixing Parsing Wrong Dates\n",
    "for i in range(successLevel.shape[0]):\n",
    "    date = successLevel.loc[i, 'release_date']\n",
    "    if 2 < int(date[-2]) < 7:\n",
    "        new_date = date[:-2] + \"19\" + date[-2:]\n",
    "        successLevel.loc[i, 'release_date'] = new_date\n",
    "    elif int(date[-2]) == 2 and int(date[-1]) > 2:\n",
    "        new_date = date[:-2] + \"19\" + date[-2:]\n",
    "        successLevel.loc[i, 'release_date'] = new_date\n",
    "\n",
    "successLevel.release_date = pd.to_datetime(successLevel.release_date)\n",
    "\n",
    "print(\"Release-Date datatype after Parsing: \", successLevel.release_date.dtype)\n",
    "print(\"-\" * 50)"
   ]
  },
  {
   "cell_type": "code",
   "execution_count": 4,
   "id": "85567f3e",
   "metadata": {},
   "outputs": [],
   "source": [
    "directors.rename(columns={'name': 'movie_title'}, inplace=True)\n",
    "voice_actors.rename(columns={'movie': 'movie_title'}, inplace=True)"
   ]
  },
  {
   "cell_type": "code",
   "execution_count": 5,
   "id": "f700f446",
   "metadata": {},
   "outputs": [
    {
     "name": "stdout",
     "output_type": "stream",
     "text": [
      "Shape after Joining : (897, 8)\n"
     ]
    }
   ],
   "source": [
    "MovieSuccessLevels_actors = pd.merge(successLevel, voice_actors, on=\"movie_title\", how=\"outer\")\n",
    "data = pd.merge(MovieSuccessLevels_actors, directors, on=\"movie_title\", how=\"outer\")\n",
    "data = data.dropna(axis=0, subset=['MovieSuccessLevel'])\n",
    "print(\"Shape after Joining :\", data.shape)"
   ]
  },
  {
   "cell_type": "code",
   "execution_count": 6,
   "id": "bdea6be7",
   "metadata": {},
   "outputs": [
    {
     "data": {
      "text/html": [
       "<div>\n",
       "<style scoped>\n",
       "    .dataframe tbody tr th:only-of-type {\n",
       "        vertical-align: middle;\n",
       "    }\n",
       "\n",
       "    .dataframe tbody tr th {\n",
       "        vertical-align: top;\n",
       "    }\n",
       "\n",
       "    .dataframe thead th {\n",
       "        text-align: right;\n",
       "    }\n",
       "</style>\n",
       "<table border=\"1\" class=\"dataframe\">\n",
       "  <thead>\n",
       "    <tr style=\"text-align: right;\">\n",
       "      <th></th>\n",
       "      <th>movie_title</th>\n",
       "      <th>release_date</th>\n",
       "      <th>genre</th>\n",
       "      <th>MPAA_rating</th>\n",
       "      <th>MovieSuccessLevel</th>\n",
       "      <th>character</th>\n",
       "      <th>voice-actor</th>\n",
       "      <th>director</th>\n",
       "    </tr>\n",
       "  </thead>\n",
       "  <tbody>\n",
       "    <tr>\n",
       "      <th>0</th>\n",
       "      <td>Recess: School's Out</td>\n",
       "      <td>2001-02-16</td>\n",
       "      <td>Comedy</td>\n",
       "      <td>G</td>\n",
       "      <td>C</td>\n",
       "      <td>NaN</td>\n",
       "      <td>NaN</td>\n",
       "      <td>NaN</td>\n",
       "    </tr>\n",
       "  </tbody>\n",
       "</table>\n",
       "</div>"
      ],
      "text/plain": [
       "            movie_title release_date   genre MPAA_rating MovieSuccessLevel  \\\n",
       "0  Recess: School's Out   2001-02-16  Comedy           G                 C   \n",
       "\n",
       "  character voice-actor director  \n",
       "0       NaN         NaN      NaN  "
      ]
     },
     "execution_count": 6,
     "metadata": {},
     "output_type": "execute_result"
    }
   ],
   "source": [
    "data.head(1)"
   ]
  },
  {
   "cell_type": "code",
   "execution_count": 7,
   "id": "18667cd6",
   "metadata": {},
   "outputs": [],
   "source": [
    "data.to_csv(\"Preprocessed-Dataset/preprocessed_data.csv\", index=False)"
   ]
  },
  {
   "cell_type": "markdown",
   "id": "04f4584b",
   "metadata": {},
   "source": [
    "# Training Models"
   ]
  },
  {
   "cell_type": "markdown",
   "id": "ce8f4228",
   "metadata": {},
   "source": [
    "## Polynomial Classification"
   ]
  },
  {
   "cell_type": "code",
   "execution_count": 8,
   "id": "6084ee16",
   "metadata": {},
   "outputs": [
    {
     "data": {
      "text/html": [
       "<div>\n",
       "<style scoped>\n",
       "    .dataframe tbody tr th:only-of-type {\n",
       "        vertical-align: middle;\n",
       "    }\n",
       "\n",
       "    .dataframe tbody tr th {\n",
       "        vertical-align: top;\n",
       "    }\n",
       "\n",
       "    .dataframe thead th {\n",
       "        text-align: right;\n",
       "    }\n",
       "</style>\n",
       "<table border=\"1\" class=\"dataframe\">\n",
       "  <thead>\n",
       "    <tr style=\"text-align: right;\">\n",
       "      <th></th>\n",
       "      <th>release_date</th>\n",
       "      <th>genre</th>\n",
       "      <th>MPAA_rating</th>\n",
       "      <th>director</th>\n",
       "      <th>character</th>\n",
       "      <th>voice-actor</th>\n",
       "    </tr>\n",
       "  </thead>\n",
       "  <tbody>\n",
       "    <tr>\n",
       "      <th>0</th>\n",
       "      <td>2001-02-16</td>\n",
       "      <td>1.61828</td>\n",
       "      <td>1.305369</td>\n",
       "      <td>1.795045</td>\n",
       "      <td>1.797170</td>\n",
       "      <td>1.797170</td>\n",
       "    </tr>\n",
       "    <tr>\n",
       "      <th>1</th>\n",
       "      <td>1994-03-25</td>\n",
       "      <td>1.61828</td>\n",
       "      <td>0.986842</td>\n",
       "      <td>1.795045</td>\n",
       "      <td>1.797170</td>\n",
       "      <td>1.797170</td>\n",
       "    </tr>\n",
       "    <tr>\n",
       "      <th>2</th>\n",
       "      <td>2004-04-02</td>\n",
       "      <td>1.61828</td>\n",
       "      <td>0.986842</td>\n",
       "      <td>2.000000</td>\n",
       "      <td>1.381271</td>\n",
       "      <td>1.381271</td>\n",
       "    </tr>\n",
       "    <tr>\n",
       "      <th>3</th>\n",
       "      <td>2004-04-02</td>\n",
       "      <td>1.61828</td>\n",
       "      <td>0.986842</td>\n",
       "      <td>2.000000</td>\n",
       "      <td>1.381271</td>\n",
       "      <td>1.381271</td>\n",
       "    </tr>\n",
       "    <tr>\n",
       "      <th>4</th>\n",
       "      <td>2004-04-02</td>\n",
       "      <td>1.61828</td>\n",
       "      <td>0.986842</td>\n",
       "      <td>2.000000</td>\n",
       "      <td>1.381271</td>\n",
       "      <td>1.381271</td>\n",
       "    </tr>\n",
       "  </tbody>\n",
       "</table>\n",
       "</div>"
      ],
      "text/plain": [
       "  release_date    genre  MPAA_rating  director  character  voice-actor\n",
       "0   2001-02-16  1.61828     1.305369  1.795045   1.797170     1.797170\n",
       "1   1994-03-25  1.61828     0.986842  1.795045   1.797170     1.797170\n",
       "2   2004-04-02  1.61828     0.986842  2.000000   1.381271     1.381271\n",
       "3   2004-04-02  1.61828     0.986842  2.000000   1.381271     1.381271\n",
       "4   2004-04-02  1.61828     0.986842  2.000000   1.381271     1.381271"
      ]
     },
     "execution_count": 8,
     "metadata": {},
     "output_type": "execute_result"
    }
   ],
   "source": [
    "labelEncoder = LabelEncoder()\n",
    "encodedLabel = labelEncoder.fit_transform(data[\"MovieSuccessLevel\"])\n",
    "encodedLabel = pd.DataFrame(encodedLabel)\n",
    "\n",
    "targetEncoder = TargetEncoder()\n",
    "encodedData = targetEncoder.fit_transform(data[features], encodedLabel)\n",
    "\n",
    "encodedData.head()"
   ]
  },
  {
   "cell_type": "code",
   "execution_count": 9,
   "id": "cda590bb",
   "metadata": {},
   "outputs": [],
   "source": [
    "encodedData['release_date'] = encodedData['release_date'].dt.year\n",
    "x = encodedData[features]\n",
    "y = encodedLabel\n",
    "\n",
    "y = np.squeeze(y)"
   ]
  },
  {
   "cell_type": "code",
   "execution_count": 10,
   "id": "e6d5c4b8",
   "metadata": {},
   "outputs": [],
   "source": [
    "X_train, X_test, y_train, y_test = train_test_split(x, y, train_size=0.8, shuffle=True)"
   ]
  },
  {
   "cell_type": "markdown",
   "id": "9c6afe73",
   "metadata": {},
   "source": [
    "# Target Encoder"
   ]
  },
  {
   "cell_type": "code",
   "execution_count": 12,
   "id": "579c2223",
   "metadata": {},
   "outputs": [
    {
     "name": "stdout",
     "output_type": "stream",
     "text": [
      "\n",
      "Polynomial SVC with degree 4 Train Accuracy: 29.99 \b%\n",
      "\n",
      "Polynomial SVC with degree 4 Accuracy: 21.67 \b%\n",
      "\n"
     ]
    }
   ],
   "source": [
    "Polynomial_svc = svm.SVC(kernel='poly', degree=10, C=0.02).fit(xTrain, yTrain)\n",
    "\n",
    "trainPredictions = Polynomial_svc.predict(xTrain)\n",
    "trainAccuracy = np.mean(trainPredictions == yTrain)\n",
    "print(\"\\nPolynomial SVC with degree 4 Train Accuracy:\", \"{:.2f}\".format(trainAccuracy * 100), \"\\b%\")\n",
    "\n",
    "testPredictions = Polynomial_svc.predict(xTest)\n",
    "testAccuracy = np.mean(testPredictions == YTest)\n",
    "print(\"\\nPolynomial SVC with degree 4 Accuracy:\", \"{:.2f}\".format(testAccuracy * 100), \"\\b%\\n\")"
   ]
  },
  {
   "cell_type": "code",
   "execution_count": 31,
   "id": "a200ee22",
   "metadata": {},
   "outputs": [
    {
     "name": "stdout",
     "output_type": "stream",
     "text": [
      "\n",
      "Polynomial SVC with degree 4 Train Accuracy: 63.04 \b%\n",
      "\n",
      "Polynomial SVC with degree 4 Accuracy: 55.56 \b%\n",
      "\n"
     ]
    }
   ],
   "source": [
    "def_svc = svm.SVC(kernel='linear', C=0.4).fit(xTrain, yTrain)\n",
    "\n",
    "trainPredictions = def_svc.predict(xTrain)\n",
    "trainAccuracy = np.mean(trainPredictions == yTrain)\n",
    "print(\"\\nPolynomial SVC with degree 4 Train Accuracy:\", \"{:.2f}\".format(trainAccuracy * 100), \"\\b%\")\n",
    "\n",
    "testPredictions = def_svc.predict(xTest)\n",
    "testAccuracy = np.mean(testPredictions == YTest)\n",
    "\n",
    "print(\"\\nPolynomial SVC with degree 4 Accuracy:\", \"{:.2f}\".format(testAccuracy * 100), \"\\b%\\n\")"
   ]
  },
  {
   "cell_type": "code",
   "execution_count": 15,
   "id": "d5ea0698",
   "metadata": {},
   "outputs": [
    {
     "name": "stderr",
     "output_type": "stream",
     "text": [
      "C:\\Users\\-O-O-\\anaconda3\\lib\\site-packages\\sklearn\\svm\\_base.py:985: ConvergenceWarning: Liblinear failed to converge, increase the number of iterations.\n",
      "  warnings.warn(\"Liblinear failed to converge, increase \"\n",
      "C:\\Users\\-O-O-\\anaconda3\\lib\\site-packages\\sklearn\\svm\\_base.py:985: ConvergenceWarning: Liblinear failed to converge, increase the number of iterations.\n",
      "  warnings.warn(\"Liblinear failed to converge, increase \"\n",
      "C:\\Users\\-O-O-\\anaconda3\\lib\\site-packages\\sklearn\\svm\\_base.py:985: ConvergenceWarning: Liblinear failed to converge, increase the number of iterations.\n",
      "  warnings.warn(\"Liblinear failed to converge, increase \"\n",
      "C:\\Users\\-O-O-\\anaconda3\\lib\\site-packages\\sklearn\\svm\\_base.py:985: ConvergenceWarning: Liblinear failed to converge, increase the number of iterations.\n",
      "  warnings.warn(\"Liblinear failed to converge, increase \"\n",
      "C:\\Users\\-O-O-\\anaconda3\\lib\\site-packages\\sklearn\\svm\\_base.py:985: ConvergenceWarning: Liblinear failed to converge, increase the number of iterations.\n",
      "  warnings.warn(\"Liblinear failed to converge, increase \"\n",
      "C:\\Users\\-O-O-\\anaconda3\\lib\\site-packages\\sklearn\\svm\\_base.py:985: ConvergenceWarning: Liblinear failed to converge, increase the number of iterations.\n",
      "  warnings.warn(\"Liblinear failed to converge, increase \"\n",
      "C:\\Users\\-O-O-\\anaconda3\\lib\\site-packages\\sklearn\\svm\\_base.py:985: ConvergenceWarning: Liblinear failed to converge, increase the number of iterations.\n",
      "  warnings.warn(\"Liblinear failed to converge, increase \"\n",
      "C:\\Users\\-O-O-\\anaconda3\\lib\\site-packages\\sklearn\\svm\\_base.py:985: ConvergenceWarning: Liblinear failed to converge, increase the number of iterations.\n",
      "  warnings.warn(\"Liblinear failed to converge, increase \"\n",
      "C:\\Users\\-O-O-\\anaconda3\\lib\\site-packages\\sklearn\\svm\\_base.py:985: ConvergenceWarning: Liblinear failed to converge, increase the number of iterations.\n",
      "  warnings.warn(\"Liblinear failed to converge, increase \"\n",
      "C:\\Users\\-O-O-\\anaconda3\\lib\\site-packages\\sklearn\\svm\\_base.py:985: ConvergenceWarning: Liblinear failed to converge, increase the number of iterations.\n",
      "  warnings.warn(\"Liblinear failed to converge, increase \"\n",
      "C:\\Users\\-O-O-\\anaconda3\\lib\\site-packages\\sklearn\\svm\\_base.py:985: ConvergenceWarning: Liblinear failed to converge, increase the number of iterations.\n",
      "  warnings.warn(\"Liblinear failed to converge, increase \"\n",
      "C:\\Users\\-O-O-\\anaconda3\\lib\\site-packages\\sklearn\\svm\\_base.py:985: ConvergenceWarning: Liblinear failed to converge, increase the number of iterations.\n",
      "  warnings.warn(\"Liblinear failed to converge, increase \"\n",
      "C:\\Users\\-O-O-\\anaconda3\\lib\\site-packages\\sklearn\\svm\\_base.py:985: ConvergenceWarning: Liblinear failed to converge, increase the number of iterations.\n",
      "  warnings.warn(\"Liblinear failed to converge, increase \"\n",
      "C:\\Users\\-O-O-\\anaconda3\\lib\\site-packages\\sklearn\\svm\\_base.py:985: ConvergenceWarning: Liblinear failed to converge, increase the number of iterations.\n",
      "  warnings.warn(\"Liblinear failed to converge, increase \"\n"
     ]
    },
    {
     "name": "stdout",
     "output_type": "stream",
     "text": [
      "Linear Kernel OneVsRest SVM accuracy: 0.2777777777777778\n",
      "Linear Kernel OneVsOne SVM accuracy: 0.5166666666666667\n",
      "LinearSVC OneVsRest SVM accuracy: 0.2\n",
      "LinearSVC OneVsOne SVM accuracy: 0.4222222222222222\n"
     ]
    },
    {
     "name": "stderr",
     "output_type": "stream",
     "text": [
      "C:\\Users\\-O-O-\\anaconda3\\lib\\site-packages\\sklearn\\svm\\_base.py:985: ConvergenceWarning: Liblinear failed to converge, increase the number of iterations.\n",
      "  warnings.warn(\"Liblinear failed to converge, increase \"\n"
     ]
    }
   ],
   "source": [
    "from sklearn.svm import LinearSVC\n",
    "from sklearn.svm import SVC\n",
    "from sklearn.multiclass import OneVsRestClassifier,OneVsOneClassifier\n",
    "\n",
    "svm_kernel_ovo = OneVsOneClassifier(SVC(kernel='linear', C=2)).fit(X_train, y_train)\n",
    "svm_kernel_ovr = OneVsRestClassifier(SVC(kernel='linear', C=2)).fit(X_train, y_train)\n",
    "\n",
    "svm_linear_ovo = OneVsOneClassifier(LinearSVC(C=1),).fit(X_train, y_train)\n",
    "svm_linear_ovr = OneVsRestClassifier(LinearSVC(C=1)).fit(X_train, y_train)\n",
    "\n",
    "# model accuracy for svc model\n",
    "accuracy = svm_kernel_ovr.score(X_test, y_test)\n",
    "print('Linear Kernel OneVsRest SVM accuracy: ' + str(accuracy))\n",
    "accuracy = svm_kernel_ovo.score(X_test, y_test)\n",
    "print('Linear Kernel OneVsOne SVM accuracy: ' + str(accuracy))\n",
    "\n",
    "# model accuracy for svc model\n",
    "accuracy = svm_linear_ovr.score(X_test, y_test)\n",
    "print('LinearSVC OneVsRest SVM accuracy: ' + str(accuracy))\n",
    "accuracy = svm_linear_ovo.score(X_test, y_test)\n",
    "print('LinearSVC OneVsOne SVM accuracy: ' + str(accuracy))"
   ]
  },
  {
   "cell_type": "code",
   "execution_count": null,
   "id": "667d2f34",
   "metadata": {},
   "outputs": [],
   "source": []
  }
 ],
 "metadata": {
  "kernelspec": {
   "display_name": "Python 3 (ipykernel)",
   "language": "python",
   "name": "python3"
  },
  "language_info": {
   "codemirror_mode": {
    "name": "ipython",
    "version": 3
   },
   "file_extension": ".py",
   "mimetype": "text/x-python",
   "name": "python",
   "nbconvert_exporter": "python",
   "pygments_lexer": "ipython3",
   "version": "3.9.7"
  }
 },
 "nbformat": 4,
 "nbformat_minor": 5
}
